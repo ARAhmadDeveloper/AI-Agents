{
  "cells": [
    {
      "cell_type": "markdown",
      "metadata": {
        "id": "view-in-github",
        "colab_type": "text"
      },
      "source": [
        "<a href=\"https://colab.research.google.com/github/ARAhmadDeveloper/AI-Agents/blob/master/Class_02/OpenAI_agents_SDK_Hello_world.ipynb\" target=\"_parent\"><img src=\"https://colab.research.google.com/assets/colab-badge.svg\" alt=\"Open In Colab\"/></a>"
      ]
    },
    {
      "cell_type": "markdown",
      "metadata": {
        "id": "30327e3a"
      },
      "source": [
        "# 🚀 Exploring the openai-agents Library with Gemini\n",
        "This notebook shows how to use the openai-agents library with Gemini API to build conversational agents—covering two execution methods"
      ]
    },
    {
      "cell_type": "markdown",
      "metadata": {
        "id": "wd12XkqwSRxc"
      },
      "source": [
        "# 📦 installation"
      ]
    },
    {
      "cell_type": "code",
      "execution_count": 1,
      "metadata": {
        "id": "8U2DuZP0_1Iu",
        "colab": {
          "base_uri": "https://localhost:8080/"
        },
        "outputId": "6ec45de3-bd62-49ff-9ee6-77888dcc1231"
      },
      "outputs": [
        {
          "output_type": "stream",
          "name": "stdout",
          "text": [
            "\u001b[2K     \u001b[90m━━━━━━━━━━━━━━━━━━━━━━━━━━━━━━━━━━━━━━━━\u001b[0m \u001b[32m68.7/68.7 kB\u001b[0m \u001b[31m1.4 MB/s\u001b[0m eta \u001b[36m0:00:00\u001b[0m\n",
            "\u001b[2K   \u001b[90m━━━━━━━━━━━━━━━━━━━━━━━━━━━━━━━━━━━━━━━━\u001b[0m \u001b[32m168.5/168.5 kB\u001b[0m \u001b[31m6.7 MB/s\u001b[0m eta \u001b[36m0:00:00\u001b[0m\n",
            "\u001b[2K   \u001b[90m━━━━━━━━━━━━━━━━━━━━━━━━━━━━━━━━━━━━━━━━\u001b[0m \u001b[32m138.9/138.9 kB\u001b[0m \u001b[31m9.3 MB/s\u001b[0m eta \u001b[36m0:00:00\u001b[0m\n",
            "\u001b[2K   \u001b[90m━━━━━━━━━━━━━━━━━━━━━━━━━━━━━━━━━━━━━━━━\u001b[0m \u001b[32m160.2/160.2 kB\u001b[0m \u001b[31m11.3 MB/s\u001b[0m eta \u001b[36m0:00:00\u001b[0m\n",
            "\u001b[2K   \u001b[90m━━━━━━━━━━━━━━━━━━━━━━━━━━━━━━━━━━━━━━━━\u001b[0m \u001b[32m45.2/45.2 kB\u001b[0m \u001b[31m2.4 MB/s\u001b[0m eta \u001b[36m0:00:00\u001b[0m\n",
            "\u001b[?25h"
          ]
        }
      ],
      "source": [
        "!pip install -Uq openai-agents"
      ]
    },
    {
      "cell_type": "markdown",
      "metadata": {
        "id": "jL-reb6RR_H6"
      },
      "source": [
        "# 📦 Imports"
      ]
    },
    {
      "cell_type": "code",
      "execution_count": 2,
      "metadata": {
        "id": "OE_-gMwUDw8b"
      },
      "outputs": [],
      "source": [
        "import nest_asyncio\n",
        "nest_asyncio.apply()"
      ]
    },
    {
      "cell_type": "markdown",
      "metadata": {
        "id": "MywTysH-Rn2h"
      },
      "source": [
        "# 📦 Imports"
      ]
    },
    {
      "cell_type": "code",
      "execution_count": 3,
      "metadata": {
        "id": "dvNo75PtD5YL"
      },
      "outputs": [],
      "source": [
        "from agents import Agent, Runner, AsyncOpenAI, OpenAIChatCompletionsModel, set_tracing_disabled"
      ]
    },
    {
      "cell_type": "markdown",
      "metadata": {
        "id": "uO3deejXRZw8"
      },
      "source": [
        "# 🔐 Step 1: Setup for Api Keys"
      ]
    },
    {
      "cell_type": "code",
      "execution_count": 4,
      "metadata": {
        "id": "9p1ynoc0EDCx"
      },
      "outputs": [],
      "source": [
        "from google.colab import userdata\n",
        "gemini_api_key = userdata.get(\"GEMINI_API_KEY\")\n"
      ]
    },
    {
      "cell_type": "markdown",
      "metadata": {
        "id": "S4GITaFOP526"
      },
      "source": [
        "# 🌐  Step 2: Client Setup for Connecting to **Gemini**"
      ]
    },
    {
      "cell_type": "code",
      "execution_count": 5,
      "metadata": {
        "id": "IofWknGLEHHI"
      },
      "outputs": [],
      "source": [
        "# Tracing disabled\n",
        "set_tracing_disabled(disabled=True)\n",
        "\n",
        "# 1. Which LLM Service?\n",
        "external_client: AsyncOpenAI = AsyncOpenAI(\n",
        "    api_key=gemini_api_key,\n",
        "    base_url=\"https://generativelanguage.googleapis.com/v1beta/openai/\",\n",
        ")\n",
        "\n",
        "# 2. Which LLM Model?\n",
        "llm_model: OpenAIChatCompletionsModel = OpenAIChatCompletionsModel(\n",
        "    model=\"gemini-2.5-flash\",\n",
        "    openai_client=external_client\n",
        ")"
      ]
    },
    {
      "cell_type": "markdown",
      "metadata": {
        "id": "Upg62mcUJUB4"
      },
      "source": [
        "# 💬  Step 3 Running Agent Synchronously"
      ]
    },
    {
      "cell_type": "code",
      "execution_count": 10,
      "metadata": {
        "colab": {
          "base_uri": "https://localhost:8080/"
        },
        "collapsed": true,
        "id": "4QgfJqHZJV_M",
        "outputId": "0cd7e340-231f-45a4-a325-044d6c0a260a"
      },
      "outputs": [
        {
          "output_type": "stream",
          "name": "stdout",
          "text": [
            "\n",
            "CALLING AGENT\n",
            "\n",
            "Muhammad Ali Jinnah's \"Fourteen Points\" were a set of proposals put forth by him in **1929** as a response to the **Nehru Report (1928)**.\n",
            "\n",
            "The Nehru Report, drafted by an All-Parties Conference headed by Motilal Nehru (Jawaharlal Nehru's father), proposed a constitution for an independent India based on dominion status. However, it rejected separate electorates for Muslims and other key demands of the Muslim League, which led to significant discontent among Muslim leaders.\n",
            "\n",
            "In response, Jinnah, as the leader of the All-India Muslim League, articulated his \"Fourteen Points\" to safeguard Muslim political rights and interests within a future independent India. These points became the minimum demands of the Muslim League for any future constitutional settlement in India.\n",
            "\n",
            "Here are the fourteen points:\n",
            "\n",
            "1.  **Federal Constitution:** The future constitution of India should be federal, with the residuary powers vested in the provinces.\n",
            "2.  **Uniform Autonomy:** A uniform measure of autonomy shall be granted to all provinces.\n",
            "3.  **Minority Representation:** All legislatures and other elected bodies in India shall be constituted on the definite principle of adequate and effective representation of minorities in every province, without reducing the majority in any province to a minority or even equality.\n",
            "4.  **Muslim Representation in Central Legislature:** In the Central Legislature, Muslim representation shall not be less than one-third.\n",
            "5.  **Separate Electorates:** Representation of communal groups shall continue to be by means of separate electorates as at present, provided that it shall be open to any community, at any time, to abandon its separate electorate in favor of a joint electorate.\n",
            "6.  **Territorial Redistribution:** Any territorial redistribution that might at any time be necessary shall not in any way affect the Muslim majority in the Punjab, Bengal, and NWFP.\n",
            "7.  **Religious Liberty:** Full religious liberty, i.e., liberty of belief, worship, and observance, propaganda, association, and education, shall be guaranteed to all communities.\n",
            "8.  **Legislation Affecting a Community:** No bill or resolution or any part thereof shall be passed in any legislature or any other elected body if three-fourths of the members of any one community in that particular body oppose it as being injurious to the interests of that community, or, in the alternative, such a bill or resolution should not be proceeded with without the consent of the Muslim community.\n",
            "9.  **Separation of Sindh:** Sindh should be separated from the Bombay Presidency.\n",
            "10. **Reforms in NWFP and Balochistan:** Reforms should be introduced in the North-West Frontier Province and Balochistan on the same footing as in other provinces.\n",
            "11. **Muslim Share in Services:** Adequate provision shall be made in the constitution for the due protection of Muslim culture and the promotion of Muslim education, language, religion, personal laws, and Muslim charitable institutions, and for their due share in the grants-in-aid from the State.\n",
            "12. **Protection of Muslim Culture:** Adequate provision shall be made in the constitution for the due protection of Muslim culture and the promotion of Muslim education, language, religion, personal laws, and Muslim charitable institutions, and for their due share in the grants-in-aid from the State.\n",
            "13. **Constitutional Embodiment:** No change shall be made in the constitution by the Central Legislature except with the concurrence of the States constituting the Indian Federation.\n",
            "14. **No Constitutional Change without Concurrence:** The constitution shall embody these safeguards, and no change in the constitution shall be made by the Central Legislature except with the concurrence of the States constituting the Indian Federation.\n",
            "\n",
            "**Significance:**\n",
            "\n",
            "*   The Fourteen Points represented the aspirations and demands of the Muslim League at a crucial juncture in Indian politics.\n",
            "*   Their rejection by the Indian National Congress widened the political and ideological gap between the two major parties, and further solidified Jinnah's position as the key spokesperson for Indian Muslims.\n",
            "*   This failure to find a common constitutional ground ultimately contributed to the growing demand for a separate Muslim state (Pakistan) in the years that followed.\n"
          ]
        }
      ],
      "source": [
        "math_agent: Agent = Agent(name=\"HistoryAgent\",\n",
        "                     instructions=\"You are a helpful History assistant.\",\n",
        "                     model=llm_model) # gemini-2.5 as agent brain - chat completions\n",
        "\n",
        "result: Runner = Runner.run_sync(math_agent, \"What are the fourteen points of Muhammad Ali Jinnah?\")\n",
        "\n",
        "print(\"\\nCALLING AGENT\\n\")\n",
        "print(result.final_output)"
      ]
    },
    {
      "cell_type": "code",
      "execution_count": 11,
      "metadata": {
        "colab": {
          "base_uri": "https://localhost:8080/"
        },
        "id": "Z5oKiMPbd7BC",
        "outputId": "74298d27-593d-4313-f7bc-c2972783c877"
      },
      "outputs": [
        {
          "output_type": "execute_result",
          "data": {
            "text/plain": [
              "RunResult(input='What are the fourteen points of Muhammad Ali Jinnah?', new_items=[MessageOutputItem(agent=Agent(name='HistoryAgent', handoff_description=None, tools=[], mcp_servers=[], mcp_config={}, instructions='You are a helpful History assistant.', prompt=None, handoffs=[], model=<agents.models.openai_chatcompletions.OpenAIChatCompletionsModel object at 0x7f9b521e7a90>, model_settings=ModelSettings(temperature=None, top_p=None, frequency_penalty=None, presence_penalty=None, tool_choice=None, parallel_tool_calls=None, truncation=None, max_tokens=None, reasoning=None, verbosity=None, metadata=None, store=None, include_usage=None, response_include=None, top_logprobs=None, extra_query=None, extra_body=None, extra_headers=None, extra_args=None), input_guardrails=[], output_guardrails=[], output_type=None, hooks=None, tool_use_behavior='run_llm_again', reset_tool_choice=True), raw_item=ResponseOutputMessage(id='__fake_id__', content=[ResponseOutputText(annotations=[], text='Muhammad Ali Jinnah\\'s \"Fourteen Points\" were a set of proposals put forth by him in **1929** as a response to the **Nehru Report (1928)**.\\n\\nThe Nehru Report, drafted by an All-Parties Conference headed by Motilal Nehru (Jawaharlal Nehru\\'s father), proposed a constitution for an independent India based on dominion status. However, it rejected separate electorates for Muslims and other key demands of the Muslim League, which led to significant discontent among Muslim leaders.\\n\\nIn response, Jinnah, as the leader of the All-India Muslim League, articulated his \"Fourteen Points\" to safeguard Muslim political rights and interests within a future independent India. These points became the minimum demands of the Muslim League for any future constitutional settlement in India.\\n\\nHere are the fourteen points:\\n\\n1.  **Federal Constitution:** The future constitution of India should be federal, with the residuary powers vested in the provinces.\\n2.  **Uniform Autonomy:** A uniform measure of autonomy shall be granted to all provinces.\\n3.  **Minority Representation:** All legislatures and other elected bodies in India shall be constituted on the definite principle of adequate and effective representation of minorities in every province, without reducing the majority in any province to a minority or even equality.\\n4.  **Muslim Representation in Central Legislature:** In the Central Legislature, Muslim representation shall not be less than one-third.\\n5.  **Separate Electorates:** Representation of communal groups shall continue to be by means of separate electorates as at present, provided that it shall be open to any community, at any time, to abandon its separate electorate in favor of a joint electorate.\\n6.  **Territorial Redistribution:** Any territorial redistribution that might at any time be necessary shall not in any way affect the Muslim majority in the Punjab, Bengal, and NWFP.\\n7.  **Religious Liberty:** Full religious liberty, i.e., liberty of belief, worship, and observance, propaganda, association, and education, shall be guaranteed to all communities.\\n8.  **Legislation Affecting a Community:** No bill or resolution or any part thereof shall be passed in any legislature or any other elected body if three-fourths of the members of any one community in that particular body oppose it as being injurious to the interests of that community, or, in the alternative, such a bill or resolution should not be proceeded with without the consent of the Muslim community.\\n9.  **Separation of Sindh:** Sindh should be separated from the Bombay Presidency.\\n10. **Reforms in NWFP and Balochistan:** Reforms should be introduced in the North-West Frontier Province and Balochistan on the same footing as in other provinces.\\n11. **Muslim Share in Services:** Adequate provision shall be made in the constitution for the due protection of Muslim culture and the promotion of Muslim education, language, religion, personal laws, and Muslim charitable institutions, and for their due share in the grants-in-aid from the State.\\n12. **Protection of Muslim Culture:** Adequate provision shall be made in the constitution for the due protection of Muslim culture and the promotion of Muslim education, language, religion, personal laws, and Muslim charitable institutions, and for their due share in the grants-in-aid from the State.\\n13. **Constitutional Embodiment:** No change shall be made in the constitution by the Central Legislature except with the concurrence of the States constituting the Indian Federation.\\n14. **No Constitutional Change without Concurrence:** The constitution shall embody these safeguards, and no change in the constitution shall be made by the Central Legislature except with the concurrence of the States constituting the Indian Federation.\\n\\n**Significance:**\\n\\n*   The Fourteen Points represented the aspirations and demands of the Muslim League at a crucial juncture in Indian politics.\\n*   Their rejection by the Indian National Congress widened the political and ideological gap between the two major parties, and further solidified Jinnah\\'s position as the key spokesperson for Indian Muslims.\\n*   This failure to find a common constitutional ground ultimately contributed to the growing demand for a separate Muslim state (Pakistan) in the years that followed.', type='output_text', logprobs=None)], role='assistant', status='completed', type='message'), type='message_output_item')], raw_responses=[ModelResponse(output=[ResponseOutputMessage(id='__fake_id__', content=[ResponseOutputText(annotations=[], text='Muhammad Ali Jinnah\\'s \"Fourteen Points\" were a set of proposals put forth by him in **1929** as a response to the **Nehru Report (1928)**.\\n\\nThe Nehru Report, drafted by an All-Parties Conference headed by Motilal Nehru (Jawaharlal Nehru\\'s father), proposed a constitution for an independent India based on dominion status. However, it rejected separate electorates for Muslims and other key demands of the Muslim League, which led to significant discontent among Muslim leaders.\\n\\nIn response, Jinnah, as the leader of the All-India Muslim League, articulated his \"Fourteen Points\" to safeguard Muslim political rights and interests within a future independent India. These points became the minimum demands of the Muslim League for any future constitutional settlement in India.\\n\\nHere are the fourteen points:\\n\\n1.  **Federal Constitution:** The future constitution of India should be federal, with the residuary powers vested in the provinces.\\n2.  **Uniform Autonomy:** A uniform measure of autonomy shall be granted to all provinces.\\n3.  **Minority Representation:** All legislatures and other elected bodies in India shall be constituted on the definite principle of adequate and effective representation of minorities in every province, without reducing the majority in any province to a minority or even equality.\\n4.  **Muslim Representation in Central Legislature:** In the Central Legislature, Muslim representation shall not be less than one-third.\\n5.  **Separate Electorates:** Representation of communal groups shall continue to be by means of separate electorates as at present, provided that it shall be open to any community, at any time, to abandon its separate electorate in favor of a joint electorate.\\n6.  **Territorial Redistribution:** Any territorial redistribution that might at any time be necessary shall not in any way affect the Muslim majority in the Punjab, Bengal, and NWFP.\\n7.  **Religious Liberty:** Full religious liberty, i.e., liberty of belief, worship, and observance, propaganda, association, and education, shall be guaranteed to all communities.\\n8.  **Legislation Affecting a Community:** No bill or resolution or any part thereof shall be passed in any legislature or any other elected body if three-fourths of the members of any one community in that particular body oppose it as being injurious to the interests of that community, or, in the alternative, such a bill or resolution should not be proceeded with without the consent of the Muslim community.\\n9.  **Separation of Sindh:** Sindh should be separated from the Bombay Presidency.\\n10. **Reforms in NWFP and Balochistan:** Reforms should be introduced in the North-West Frontier Province and Balochistan on the same footing as in other provinces.\\n11. **Muslim Share in Services:** Adequate provision shall be made in the constitution for the due protection of Muslim culture and the promotion of Muslim education, language, religion, personal laws, and Muslim charitable institutions, and for their due share in the grants-in-aid from the State.\\n12. **Protection of Muslim Culture:** Adequate provision shall be made in the constitution for the due protection of Muslim culture and the promotion of Muslim education, language, religion, personal laws, and Muslim charitable institutions, and for their due share in the grants-in-aid from the State.\\n13. **Constitutional Embodiment:** No change shall be made in the constitution by the Central Legislature except with the concurrence of the States constituting the Indian Federation.\\n14. **No Constitutional Change without Concurrence:** The constitution shall embody these safeguards, and no change in the constitution shall be made by the Central Legislature except with the concurrence of the States constituting the Indian Federation.\\n\\n**Significance:**\\n\\n*   The Fourteen Points represented the aspirations and demands of the Muslim League at a crucial juncture in Indian politics.\\n*   Their rejection by the Indian National Congress widened the political and ideological gap between the two major parties, and further solidified Jinnah\\'s position as the key spokesperson for Indian Muslims.\\n*   This failure to find a common constitutional ground ultimately contributed to the growing demand for a separate Muslim state (Pakistan) in the years that followed.', type='output_text', logprobs=None)], role='assistant', status='completed', type='message')], usage=Usage(requests=1, input_tokens=20, input_tokens_details=InputTokensDetails(cached_tokens=0), output_tokens=864, output_tokens_details=OutputTokensDetails(reasoning_tokens=0), total_tokens=1867), response_id=None)], final_output='Muhammad Ali Jinnah\\'s \"Fourteen Points\" were a set of proposals put forth by him in **1929** as a response to the **Nehru Report (1928)**.\\n\\nThe Nehru Report, drafted by an All-Parties Conference headed by Motilal Nehru (Jawaharlal Nehru\\'s father), proposed a constitution for an independent India based on dominion status. However, it rejected separate electorates for Muslims and other key demands of the Muslim League, which led to significant discontent among Muslim leaders.\\n\\nIn response, Jinnah, as the leader of the All-India Muslim League, articulated his \"Fourteen Points\" to safeguard Muslim political rights and interests within a future independent India. These points became the minimum demands of the Muslim League for any future constitutional settlement in India.\\n\\nHere are the fourteen points:\\n\\n1.  **Federal Constitution:** The future constitution of India should be federal, with the residuary powers vested in the provinces.\\n2.  **Uniform Autonomy:** A uniform measure of autonomy shall be granted to all provinces.\\n3.  **Minority Representation:** All legislatures and other elected bodies in India shall be constituted on the definite principle of adequate and effective representation of minorities in every province, without reducing the majority in any province to a minority or even equality.\\n4.  **Muslim Representation in Central Legislature:** In the Central Legislature, Muslim representation shall not be less than one-third.\\n5.  **Separate Electorates:** Representation of communal groups shall continue to be by means of separate electorates as at present, provided that it shall be open to any community, at any time, to abandon its separate electorate in favor of a joint electorate.\\n6.  **Territorial Redistribution:** Any territorial redistribution that might at any time be necessary shall not in any way affect the Muslim majority in the Punjab, Bengal, and NWFP.\\n7.  **Religious Liberty:** Full religious liberty, i.e., liberty of belief, worship, and observance, propaganda, association, and education, shall be guaranteed to all communities.\\n8.  **Legislation Affecting a Community:** No bill or resolution or any part thereof shall be passed in any legislature or any other elected body if three-fourths of the members of any one community in that particular body oppose it as being injurious to the interests of that community, or, in the alternative, such a bill or resolution should not be proceeded with without the consent of the Muslim community.\\n9.  **Separation of Sindh:** Sindh should be separated from the Bombay Presidency.\\n10. **Reforms in NWFP and Balochistan:** Reforms should be introduced in the North-West Frontier Province and Balochistan on the same footing as in other provinces.\\n11. **Muslim Share in Services:** Adequate provision shall be made in the constitution for the due protection of Muslim culture and the promotion of Muslim education, language, religion, personal laws, and Muslim charitable institutions, and for their due share in the grants-in-aid from the State.\\n12. **Protection of Muslim Culture:** Adequate provision shall be made in the constitution for the due protection of Muslim culture and the promotion of Muslim education, language, religion, personal laws, and Muslim charitable institutions, and for their due share in the grants-in-aid from the State.\\n13. **Constitutional Embodiment:** No change shall be made in the constitution by the Central Legislature except with the concurrence of the States constituting the Indian Federation.\\n14. **No Constitutional Change without Concurrence:** The constitution shall embody these safeguards, and no change in the constitution shall be made by the Central Legislature except with the concurrence of the States constituting the Indian Federation.\\n\\n**Significance:**\\n\\n*   The Fourteen Points represented the aspirations and demands of the Muslim League at a crucial juncture in Indian politics.\\n*   Their rejection by the Indian National Congress widened the political and ideological gap between the two major parties, and further solidified Jinnah\\'s position as the key spokesperson for Indian Muslims.\\n*   This failure to find a common constitutional ground ultimately contributed to the growing demand for a separate Muslim state (Pakistan) in the years that followed.', input_guardrail_results=[], output_guardrail_results=[], context_wrapper=RunContextWrapper(context=None, usage=Usage(requests=1, input_tokens=20, input_tokens_details=InputTokensDetails(cached_tokens=0), output_tokens=864, output_tokens_details=OutputTokensDetails(reasoning_tokens=0), total_tokens=1867)), _last_agent=Agent(name='HistoryAgent', handoff_description=None, tools=[], mcp_servers=[], mcp_config={}, instructions='You are a helpful History assistant.', prompt=None, handoffs=[], model=<agents.models.openai_chatcompletions.OpenAIChatCompletionsModel object at 0x7f9b521e7a90>, model_settings=ModelSettings(temperature=None, top_p=None, frequency_penalty=None, presence_penalty=None, tool_choice=None, parallel_tool_calls=None, truncation=None, max_tokens=None, reasoning=None, verbosity=None, metadata=None, store=None, include_usage=None, response_include=None, top_logprobs=None, extra_query=None, extra_body=None, extra_headers=None, extra_args=None), input_guardrails=[], output_guardrails=[], output_type=None, hooks=None, tool_use_behavior='run_llm_again', reset_tool_choice=True))"
            ]
          },
          "metadata": {},
          "execution_count": 11
        }
      ],
      "source": [
        "result"
      ]
    },
    {
      "cell_type": "markdown",
      "metadata": {
        "id": "1m8xnCs4KKG5"
      },
      "source": [
        "# 💬 Step 3: Running Agent Asynchronously"
      ]
    },
    {
      "cell_type": "code",
      "execution_count": null,
      "metadata": {
        "colab": {
          "base_uri": "https://localhost:8080/"
        },
        "collapsed": true,
        "id": "jZA-iSR9KMJ9",
        "outputId": "434b964d-2ee2-45c0-b357-af5828259095"
      },
      "outputs": [
        {
          "output_type": "stream",
          "name": "stdout",
          "text": [
            "Recursion in programming is a powerful and elegant concept where a function calls itself, directly or indirectly, to solve a problem. It's like looking up a word in a dictionary, and the definition of that word itself refers to another word that you then have to look up.\n",
            "\n",
            "At its core, recursion is about breaking down a complex problem into smaller, similar subproblems until you reach a simple enough case that can be solved directly.\n",
            "\n",
            "### The Core Principles of a Recursive Function:\n",
            "\n",
            "Every well-designed recursive function must have two main parts:\n",
            "\n",
            "1.  **Base Case:** This is the condition that tells the function when to stop recursing. Without a base case, the function would call itself indefinitely, leading to an infinite loop and eventually a \"Stack Overflow\" error (because each call consumes memory on the call stack). The base case is the simplest version of the problem that can be solved without further recursion.\n",
            "\n",
            "2.  **Recursive Step (or Recursive Call):** This is where the function calls itself with a modified input, typically moving closer to the base case. The idea is to solve a smaller piece of the original problem, relying on the recursive call to solve the rest.\n",
            "\n",
            "### How Recursion Works (The Call Stack):\n",
            "\n",
            "When a function is called, the program creates a \"stack frame\" on the **call stack**. This frame stores information about the function call, such as its local variables, parameters, and the point in the code where it should return after completion.\n",
            "\n",
            "With recursion:\n",
            "1.  The initial function call is pushed onto the stack.\n",
            "2.  When the function calls itself (the recursive step), a *new* stack frame is created for *that* call and pushed on top of the previous one.\n",
            "3.  This continues until the **base case** is reached.\n",
            "4.  Once the base case is hit, the function returns a value. This causes its stack frame to be popped off.\n",
            "5.  The calling function then receives this returned value, completes its own calculations, and returns its result, popping its frame off the stack.\n",
            "6.  This process unwinds until the very first function call completes and its frame is popped, and the final result is returned to the original caller.\n",
            "\n",
            "### Common Use Cases for Recursion:\n",
            "\n",
            "Recursion is particularly well-suited for problems that can be naturally broken down into smaller, self-similar instances. Some common examples include:\n",
            "\n",
            "*   **Mathematical functions:** Factorial, Fibonacci sequence.\n",
            "*   **Tree and Graph Traversal:** Depth-First Search (DFS) is inherently recursive.\n",
            "*   **Divide and Conquer Algorithms:** Merge Sort, Quick Sort, binary search.\n",
            "*   **Fractals:** Generating self-similar geometric patterns.\n",
            "*   **Parsing:** Analyzing and processing structured data (e.g., expressions, JSON).\n",
            "*   **Backtracking problems:** Finding paths, solving mazes, Sudoku solvers.\n",
            "\n",
            "### Advantages of Recursion:\n",
            "\n",
            "*   **Elegance and Readability:** For certain problems (especially those involving recursive data structures like trees), the recursive solution can be much cleaner and more intuitive to understand than an iterative one. It often directly mirrors the mathematical definition of the problem.\n",
            "*   **Simplifies Complex Problems:** It allows you to tackle complex problems by breaking them into manageable, similar sub-problems.\n",
            "\n",
            "### Disadvantages of Recursion:\n",
            "\n",
            "*   **Performance Overhead:** Each function call involves overhead (creating a new stack frame, pushing/popping from the stack), which can make recursive solutions slower than iterative ones for the same problem.\n",
            "*   **Memory Usage:** Each recursive call adds a frame to the call stack. For deep recursion (many calls before reaching the base case), this can lead to excessive memory consumption and eventually a **Stack Overflow Error**.\n",
            "*   **Debugging Difficulty:** Tracing the execution flow of a recursive function can be more challenging than tracing a loop, as the control jumps back and forth.\n",
            "*   **Not Always Intuitive:** For beginners, understanding how recursive calls resolve and unwind can be confusing.\n",
            "\n",
            "### Example: Calculating Factorial\n",
            "\n",
            "The factorial of a non-negative integer `n`, denoted as `n!`, is the product of all positive integers less than or equal to `n`.\n",
            "*   `5! = 5 * 4 * 3 * 2 * 1 = 120`\n",
            "*   By definition, `0! = 1`.\n",
            "\n",
            "Notice the recursive definition: `n! = n * (n-1)!`\n",
            "\n",
            "Let's implement this recursively in Python:\n",
            "\n",
            "```python\n",
            "def factorial(n):\n",
            "    # 1. Base Case:\n",
            "    if n == 0:\n",
            "        return 1\n",
            "    # 2. Recursive Step:\n",
            "    else:\n",
            "        return n * factorial(n - 1)\n",
            "\n",
            "# Test cases\n",
            "print(f\"Factorial of 0: {factorial(0)}\") # Output: Factorial of 0: 1\n",
            "print(f\"Factorial of 1: {factorial(1)}\") # Output: Factorial of 1: 1\n",
            "print(f\"Factorial of 5: {factorial(5)}\") # Output: Factorial of 5: 120\n",
            "# print(factorial(-1)) # This would lead to infinite recursion and Stack Overflow!\n",
            "```\n",
            "\n",
            "**Let's trace `factorial(3)`:**\n",
            "\n",
            "1.  `factorial(3)` is called. `n` is 3.\n",
            "    *   `n` is not 0.\n",
            "    *   It returns `3 * factorial(2)`\n",
            "2.  `factorial(2)` is called. `n` is 2.\n",
            "    *   `n` is not 0.\n",
            "    *   It returns `2 * factorial(1)`\n",
            "3.  `factorial(1)` is called. `n` is 1.\n",
            "    *   `n` is not 0.\n",
            "    *   It returns `1 * factorial(0)`\n",
            "4.  `factorial(0)` is called. `n` is 0.\n",
            "    *   `n` **is** 0 (Base Case!).\n",
            "    *   It returns `1`.\n",
            "5.  Now the calls unwind:\n",
            "    *   `factorial(1)` receives `1` from `factorial(0)`. It calculates `1 * 1 = 1`. It returns `1`.\n",
            "    *   `factorial(2)` receives `1` from `factorial(1)`. It calculates `2 * 1 = 2`. It returns `2`.\n",
            "    *   `factorial(3)` receives `2` from `factorial(2)`. It calculates `3 * 2 = 6`. It returns `6`.\n",
            "\n",
            "The final result is 6.\n",
            "\n",
            "In summary, recursion is a powerful programming technique that, when used appropriately, can lead to elegant and concise solutions, especially for problems with inherent self-similarity. However, it's crucial to understand its mechanics, including the base case, recursive step, and the role of the call stack, to avoid common pitfalls like infinite recursion and stack overflow errors.\n"
          ]
        }
      ],
      "source": [
        "import asyncio\n",
        "\n",
        "async def main():\n",
        "\n",
        "    result: Runner = await Runner.run(math_agent, \"Tell me about recursion in programming.\")\n",
        "\n",
        "    print(result.final_output)\n",
        "\n",
        "\n",
        "asyncio.run(main())"
      ]
    },
    {
      "cell_type": "markdown",
      "metadata": {
        "id": "7RKgPtw2XlJs"
      },
      "source": [
        "## Example 1:\n",
        "### 👨‍🍳🍽️ Recipe Bot"
      ]
    },
    {
      "cell_type": "code",
      "execution_count": null,
      "metadata": {
        "id": "0LzWsFBvapjz"
      },
      "outputs": [],
      "source": [
        "set_tracing_disabled(disabled=True)\n",
        "\n",
        "# Client Setup for Connecting to Gemini\n",
        "external_client:AsyncOpenAI = AsyncOpenAI(\n",
        "    api_key=gemini_api_key,\n",
        "    base_url=\"https://generativelanguage.googleapis.com/v1beta/openai/\",\n",
        ")\n",
        "\n",
        "#Initialize model\n",
        "model:OpenAIChatCompletionsModel = OpenAIChatCompletionsModel(\n",
        "    model=\"gemini-2.5-flash\",\n",
        "    openai_client=external_client\n",
        ")\n",
        "\n",
        "def main():\n",
        "  # Create the Recipe Agent\n",
        "  agent = Agent(\n",
        "      name=\"RecipeBot\",\n",
        "      instructions=(\n",
        "          \"\"\"You are a helpful recipe assistant. A user will give you a few ingredients\n",
        "          they have at home, and you will suggest one simple and quick recipe using only those items.\n",
        "          Keep it short, step-by-step, and easy for beginners to cook.\"\"\"\n",
        "      ),\n",
        "      model=model\n",
        "  )\n",
        "\n",
        "  print(\"\\n🍳 What can I cook today?\\n\")\n",
        "  ingredients = \"eggs, tomatoes, onions, and bread\"\n",
        "  result:Runner = Runner.run_sync(agent, f\"I have these at home: {ingredients}. What can I cook?\")\n",
        "\n",
        "  print(result.final_output)"
      ]
    },
    {
      "cell_type": "code",
      "execution_count": null,
      "metadata": {
        "colab": {
          "base_uri": "https://localhost:8080/"
        },
        "id": "DyfXjUXsawYr",
        "outputId": "f3003dcd-b9e4-4ae4-93e2-e083bf212f44"
      },
      "outputs": [
        {
          "output_type": "stream",
          "name": "stdout",
          "text": [
            "\n",
            "🍳 What can I cook today?\n",
            "\n",
            "Here's a simple recipe for **Savory Egg Scramble with Tomato & Onion Toast**:\n",
            "\n",
            "**Ingredients:**\n",
            "*   2-3 eggs\n",
            "*   1/2 tomato\n",
            "*   1/4 onion\n",
            "*   2 slices of bread\n",
            "*   A little oil or butter (if you have it, otherwise you can dry cook a bit)\n",
            "*   Salt and pepper to taste\n",
            "\n",
            "**Instructions:**\n",
            "\n",
            "1.  **Prep Veggies:** Dice the tomato and onion into small pieces.\n",
            "2.  **Sauté:** Heat a pan over medium heat. Add a tiny bit of oil/butter (or dry pan if none) and cook the diced onion for 2-3 minutes until softened. Add the diced tomato and cook for another 2 minutes.\n",
            "3.  **Scramble Eggs:** While the veggies cook, crack the eggs into a bowl, add a pinch of salt and pepper, and whisk lightly. Pour the whisked eggs into the pan with the cooked vegetables. Stir gently as they cook until the eggs are set but still soft.\n",
            "4.  **Toast Bread:** While the eggs finish, toast your bread slices.\n",
            "5.  **Serve:** Spoon the savory egg scramble onto your toasted bread. Enjoy!\n"
          ]
        }
      ],
      "source": [
        "if __name__ == \"__main__\":\n",
        "    main()"
      ]
    }
  ],
  "metadata": {
    "colab": {
      "provenance": [],
      "include_colab_link": true
    },
    "kernelspec": {
      "display_name": "Python 3",
      "name": "python3"
    },
    "language_info": {
      "name": "python"
    }
  },
  "nbformat": 4,
  "nbformat_minor": 0
}